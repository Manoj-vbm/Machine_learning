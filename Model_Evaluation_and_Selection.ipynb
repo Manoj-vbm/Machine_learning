{
  "nbformat": 4,
  "nbformat_minor": 0,
  "metadata": {
    "colab": {
      "provenance": [],
      "authorship_tag": "ABX9TyM942rexkoXJRvwdBGDfR0v",
      "include_colab_link": true
    },
    "kernelspec": {
      "name": "python3",
      "display_name": "Python 3"
    },
    "language_info": {
      "name": "python"
    }
  },
  "cells": [
    {
      "cell_type": "markdown",
      "metadata": {
        "id": "view-in-github",
        "colab_type": "text"
      },
      "source": [
        "<a href=\"https://colab.research.google.com/github/Manoj-vbm/Machine_learning/blob/supervised_learning/Model_Evaluation_and_Selection.ipynb\" target=\"_parent\"><img src=\"https://colab.research.google.com/assets/colab-badge.svg\" alt=\"Open In Colab\"/></a>"
      ]
    },
    {
      "cell_type": "code",
      "source": [
        "!git clone <https://github.com/Manoj-vbm/Machine_learning.git>"
      ],
      "metadata": {
        "colab": {
          "base_uri": "https://localhost:8080/"
        },
        "id": "7S699DS6LSVq",
        "outputId": "a7497b9d-9844-479b-e522-fea0f3a5803e"
      },
      "execution_count": 8,
      "outputs": [
        {
          "output_type": "stream",
          "name": "stdout",
          "text": [
            "/bin/bash: -c: line 1: syntax error near unexpected token `newline'\n",
            "/bin/bash: -c: line 1: `git clone <https://github.com/Manoj-vbm/Machine_learning.git>'\n"
          ]
        }
      ]
    },
    {
      "cell_type": "markdown",
      "source": [
        "# Cross-validation\n",
        "Cross-validation is a technique for evaluating the performance of a machine learning model by dividing the training data into multiple folds and training the model on each fold while evaluating it on the remaining folds. This process is repeated for all folds, and the average performance across all folds is used as the overall performance of the model."
      ],
      "metadata": {
        "id": "StNvISeOZMpk"
      }
    },
    {
      "cell_type": "code",
      "source": [
        "import numpy as np\n",
        "from sklearn.model_selection import KFold\n",
        "from sklearn.metrics import accuracy_score, f1_score, precision_score, recall_score\n",
        "\n",
        "def perform_k_fold_cross_validation(dataset, k_folds, model):\n",
        "    X, y = dataset  # Unpack the dataset into features (X) and labels (y)\n",
        "\n",
        "    kf = KFold(n_splits=k_folds, shuffle=True, random_state=42)\n",
        "\n",
        "    accuracy_scores = []  # To store accuracy scores\n",
        "    f1_scores = []  # To store F1 scores\n",
        "    precision_scores = []  # To store precision scores\n",
        "    recall_scores = []  # To store recall scores\n",
        "\n",
        "    for train_index, test_index in kf.split(X):\n",
        "        X_train, X_test = X[train_index], X[test_index]\n",
        "        y_train, y_test = y[train_index], y[test_index]\n",
        "\n",
        "        model.fit(X_train, y_train)  # Train the model\n",
        "\n",
        "        y_pred = model.predict(X_test)  # Make predictions on the test set\n",
        "\n",
        "        # Calculate evaluation metrics for this fold\n",
        "        accuracy = accuracy_score(y_test, y_pred)\n",
        "        f1 = f1_score(y_test, y_pred, average='weighted')\n",
        "        precision = precision_score(y_test, y_pred, average='weighted')\n",
        "        recall = recall_score(y_test, y_pred, average='weighted')\n",
        "\n",
        "        accuracy_scores.append(accuracy)\n",
        "        f1_scores.append(f1)\n",
        "        precision_scores.append(precision)\n",
        "        recall_scores.append(recall)\n",
        "\n",
        "        # Print evaluation metrics for this fold\n",
        "        print(f\"Fold {len(accuracy_scores)} - Accuracy: {accuracy}, F1 Score: {f1}, Precision: {precision}, Recall: {recall}\")\n",
        "\n",
        "    return accuracy_scores, f1_scores, precision_scores, recall_scores\n",
        "\n",
        "# Example usage:\n",
        "from sklearn.datasets import load_iris\n",
        "from sklearn.linear_model import LogisticRegression\n",
        "\n",
        "# Load the Iris dataset\n",
        "iris = load_iris()\n",
        "X = iris.data\n",
        "y = iris.target\n",
        "\n",
        "# Initialize a Logistic Regression model\n",
        "logistic_model = LogisticRegression(max_iter=1000)\n",
        "\n",
        "# Perform k-fold cross-validation on the Iris dataset with Logistic Regression\n",
        "accuracy_scores, f1_scores, precision_scores, recall_scores = perform_k_fold_cross_validation((X, y), 5, logistic_model)\n",
        "\n",
        "# Calculate and print the mean scores\n",
        "mean_accuracy = np.mean(accuracy_scores)\n",
        "mean_f1 = np.mean(f1_scores)\n",
        "mean_precision = np.mean(precision_scores)\n",
        "mean_recall = np.mean(recall_scores)\n",
        "\n",
        "print(f\"Mean Accuracy: {mean_accuracy}\")\n",
        "print(f\"Mean F1 Score: {mean_f1}\")\n",
        "print(f\"Mean Precision: {mean_precision}\")\n",
        "print(f\"Mean Recall: {mean_recall}\")\n"
      ],
      "metadata": {
        "colab": {
          "base_uri": "https://localhost:8080/"
        },
        "id": "_CYDM8DJ9jqq",
        "outputId": "f7f7d356-0092-4283-fc41-0290ffaead11"
      },
      "execution_count": 7,
      "outputs": [
        {
          "output_type": "stream",
          "name": "stdout",
          "text": [
            "Fold 1 - Accuracy: 1.0, F1 Score: 1.0, Precision: 1.0, Recall: 1.0\n",
            "Fold 2 - Accuracy: 1.0, F1 Score: 1.0, Precision: 1.0, Recall: 1.0\n",
            "Fold 3 - Accuracy: 0.9333333333333333, F1 Score: 0.9333333333333333, Precision: 0.9466666666666667, Recall: 0.9333333333333333\n",
            "Fold 4 - Accuracy: 0.9666666666666667, F1 Score: 0.9664561403508772, Precision: 0.9692307692307692, Recall: 0.9666666666666667\n",
            "Fold 5 - Accuracy: 0.9666666666666667, F1 Score: 0.9666666666666667, Precision: 0.9694444444444444, Recall: 0.9666666666666667\n",
            "Mean Accuracy: 0.9733333333333334\n",
            "Mean F1 Score: 0.9732912280701754\n",
            "Mean Precision: 0.9770683760683762\n",
            "Mean Recall: 0.9733333333333334\n"
          ]
        }
      ]
    },
    {
      "cell_type": "code",
      "source": [],
      "metadata": {
        "id": "t9RfTAGDK7C-"
      },
      "execution_count": null,
      "outputs": []
    }
  ]
}