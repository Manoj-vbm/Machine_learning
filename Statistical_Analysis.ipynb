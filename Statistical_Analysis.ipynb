{
  "nbformat": 4,
  "nbformat_minor": 0,
  "metadata": {
    "colab": {
      "provenance": [],
      "authorship_tag": "ABX9TyPFmcyRWuYiqlV2xyY1GQnj",
      "include_colab_link": true
    },
    "kernelspec": {
      "name": "python3",
      "display_name": "Python 3"
    },
    "language_info": {
      "name": "python"
    }
  },
  "cells": [
    {
      "cell_type": "markdown",
      "metadata": {
        "id": "view-in-github",
        "colab_type": "text"
      },
      "source": [
        "<a href=\"https://colab.research.google.com/github/Manoj-vbm/Machine_learning/blob/supervised_learning/Statistical_Analysis.ipynb\" target=\"_parent\"><img src=\"https://colab.research.google.com/assets/colab-badge.svg\" alt=\"Open In Colab\"/></a>"
      ]
    },
    {
      "cell_type": "code",
      "source": [
        "!git clone <https://github.com/Manoj-vbm/Machine_learning.git>"
      ],
      "metadata": {
        "colab": {
          "base_uri": "https://localhost:8080/"
        },
        "id": "2T9fOD-7wyyq",
        "outputId": "89177fab-8034-480a-dd1b-34190b1afaa7"
      },
      "execution_count": 12,
      "outputs": [
        {
          "output_type": "stream",
          "name": "stdout",
          "text": [
            "/bin/bash: -c: line 1: syntax error near unexpected token `newline'\n",
            "/bin/bash: -c: line 1: `git clone <https://github.com/Manoj-vbm/Machine_learning.git>'\n"
          ]
        }
      ]
    },
    {
      "cell_type": "markdown",
      "source": [
        "# Mean\n",
        "The mean is the average of a set of numbers. You find it by adding up all the values and then dividing by the number of values.\n",
        "\n",
        "Formula: Mean = (Sum of all values) / (Number of values)"
      ],
      "metadata": {
        "id": "NyIVmQBmvPio"
      }
    },
    {
      "cell_type": "code",
      "execution_count": 1,
      "metadata": {
        "colab": {
          "base_uri": "https://localhost:8080/"
        },
        "id": "iZDtmsV6s0gb",
        "outputId": "f8ce617e-39e2-43a2-f068-da416144c6be"
      },
      "outputs": [
        {
          "output_type": "stream",
          "name": "stdout",
          "text": [
            "Mean: 3.0\n"
          ]
        }
      ],
      "source": [
        "def calculate_mean(values):\n",
        "    return sum(values) / len(values)\n",
        "\n",
        "# Example\n",
        "data = [1, 2, 3, 4, 5]\n",
        "mean_result = calculate_mean(data)\n",
        "print(\"Mean:\", mean_result)\n"
      ]
    },
    {
      "cell_type": "markdown",
      "source": [
        "# Median\n",
        "The median is the middle value in a sorted set of numbers. If there's an even number of values, it's the average of the two middle values."
      ],
      "metadata": {
        "id": "VLA5G62QvaVX"
      }
    },
    {
      "cell_type": "code",
      "source": [
        "def calculate_median(values):\n",
        "    sorted_values = sorted(values)\n",
        "    n = len(sorted_values)\n",
        "    mid = n // 2\n",
        "\n",
        "    if n % 2 == 0:\n",
        "        median_result = (sorted_values[mid - 1] + sorted_values[mid]) / 2\n",
        "    else:\n",
        "        median_result = sorted_values[mid]\n",
        "\n",
        "    return median_result\n",
        "\n",
        "# Example\n",
        "data = [1, 2, 3, 4, 5]\n",
        "median_result = calculate_median(data)\n",
        "print(\"Median:\", median_result)\n"
      ],
      "metadata": {
        "colab": {
          "base_uri": "https://localhost:8080/"
        },
        "id": "5KkLnQl9vaEw",
        "outputId": "66580e71-0b70-4662-f6a6-71565fb965ae"
      },
      "execution_count": 2,
      "outputs": [
        {
          "output_type": "stream",
          "name": "stdout",
          "text": [
            "Median: 3\n"
          ]
        }
      ]
    },
    {
      "cell_type": "markdown",
      "source": [
        "#Mode\n",
        "The mode is the value that appears most frequently in a set of numbers. A set may have one mode, more than one mode, or no mode at all."
      ],
      "metadata": {
        "id": "QOfUWgrqvmiZ"
      }
    },
    {
      "cell_type": "code",
      "source": [
        "from statistics import mode\n",
        "\n",
        "# Example\n",
        "data = [1, 2, 2, 3, 4, 4, 5]\n",
        "mode_result = mode(data)\n",
        "print(\"Mode:\", mode_result)\n"
      ],
      "metadata": {
        "colab": {
          "base_uri": "https://localhost:8080/"
        },
        "id": "mVQsMTNivprk",
        "outputId": "03309450-5988-42db-d835-8d5d77b60fb6"
      },
      "execution_count": 3,
      "outputs": [
        {
          "output_type": "stream",
          "name": "stdout",
          "text": [
            "Mode: 2\n"
          ]
        }
      ]
    },
    {
      "cell_type": "markdown",
      "source": [
        "#Range\n",
        "The range is the difference between the maximum and minimum values in a dataset.\n",
        "\n",
        "Formula: Range = Maximum Value - Minimum Value"
      ],
      "metadata": {
        "id": "pqu15zxEv2y1"
      }
    },
    {
      "cell_type": "code",
      "source": [
        "def calculate_range(values):\n",
        "    return max(values) - min(values)\n",
        "\n",
        "# Example\n",
        "data = [1, 2, 3, 4, 5]\n",
        "range_result = calculate_range(data)\n",
        "print(\"Range:\", range_result)\n"
      ],
      "metadata": {
        "colab": {
          "base_uri": "https://localhost:8080/"
        },
        "id": "yg7Qja-pv9Il",
        "outputId": "6150178c-99f9-41e1-b3a6-a8f39f59d4c8"
      },
      "execution_count": 4,
      "outputs": [
        {
          "output_type": "stream",
          "name": "stdout",
          "text": [
            "Range: 4\n"
          ]
        }
      ]
    },
    {
      "cell_type": "markdown",
      "source": [
        "# Variance\n",
        "Variance measures how far each number in the dataset is from the mean. It gives an indication of the dataset's spread.\n",
        "Formula: Variance = Σ [(x - mean)²] / n"
      ],
      "metadata": {
        "id": "bUx5DRaSwND0"
      }
    },
    {
      "cell_type": "code",
      "source": [
        "def calculate_variance(values):\n",
        "    mean_value = sum(values) / len(values)\n",
        "    squared_diff = [(x - mean_value) ** 2 for x in values]\n",
        "    variance_result = sum(squared_diff) / len(values)\n",
        "    return variance_result\n",
        "\n",
        "# Example\n",
        "data = [1, 2, 3, 4, 5]\n",
        "variance_result = calculate_variance(data)\n",
        "print(\"Variance:\", variance_result)\n"
      ],
      "metadata": {
        "colab": {
          "base_uri": "https://localhost:8080/"
        },
        "id": "xmbzXew8wMyN",
        "outputId": "cd3247e0-1fb0-47ae-8303-53331b3a4865"
      },
      "execution_count": 5,
      "outputs": [
        {
          "output_type": "stream",
          "name": "stdout",
          "text": [
            "Variance: 2.0\n"
          ]
        }
      ]
    },
    {
      "cell_type": "markdown",
      "source": [
        "#Standard Deviation\n",
        "Standard Deviation is the square root of the variance. It provides a measure of the amount of variation or dispersion in a set of values.\n",
        "\n",
        "Formula: Standard Deviation = √Variance"
      ],
      "metadata": {
        "id": "ggPC2MPywU2V"
      }
    },
    {
      "cell_type": "code",
      "source": [
        "def calculate_standard_deviation(values):\n",
        "    variance_result = calculate_variance(values)\n",
        "    standard_deviation_result = variance_result ** 0.5\n",
        "    return standard_deviation_result\n",
        "\n",
        "# Example\n",
        "data = [1, 2, 3, 4, 5]\n",
        "std_deviation_result = calculate_standard_deviation(data)\n",
        "print(\"Standard Deviation:\", std_deviation_result)\n"
      ],
      "metadata": {
        "colab": {
          "base_uri": "https://localhost:8080/"
        },
        "id": "nQi-MYLMwht_",
        "outputId": "e5bb39cc-c6df-4b60-9d74-735a8a8f53e2"
      },
      "execution_count": 6,
      "outputs": [
        {
          "output_type": "stream",
          "name": "stdout",
          "text": [
            "Standard Deviation: 1.4142135623730951\n"
          ]
        }
      ]
    },
    {
      "cell_type": "markdown",
      "source": [
        "#Quartiles\n",
        "Quartiles divide a dataset into four equal parts. The three quartiles are Q1 (25th percentile), Q2 (50th percentile or median), and Q3 (75th percentile)."
      ],
      "metadata": {
        "id": "JPj5skSYw9GK"
      }
    },
    {
      "cell_type": "code",
      "source": [
        "def calculate_quartiles(values):\n",
        "    sorted_values = sorted(values)\n",
        "    n = len(sorted_values)\n",
        "    q1 = sorted_values[int(n * 0.25)]\n",
        "    q2 = sorted_values[int(n * 0.5)]\n",
        "    q3 = sorted_values[int(n * 0.75)]\n",
        "    return q1, q2, q3\n",
        "\n",
        "# Example\n",
        "data = [1, 2, 3, 4, 5, 6, 7, 8, 9, 10]\n",
        "q1, q2, q3 = calculate_quartiles(data)\n",
        "print(\"Q1:\", q1)\n",
        "print(\"Q2:\", q2)\n",
        "print(\"Q3:\", q3)\n"
      ],
      "metadata": {
        "colab": {
          "base_uri": "https://localhost:8080/"
        },
        "id": "129tO3E0xCPs",
        "outputId": "a9c97cbd-b3ac-42f8-9fad-d0ab294b3bb4"
      },
      "execution_count": 7,
      "outputs": [
        {
          "output_type": "stream",
          "name": "stdout",
          "text": [
            "Q1: 3\n",
            "Q2: 6\n",
            "Q3: 8\n"
          ]
        }
      ]
    },
    {
      "cell_type": "markdown",
      "source": [
        "# Percentiles\n",
        "Percentiles divide a dataset into hundred equal parts. The Pth percentile is the value below which P% of the data falls."
      ],
      "metadata": {
        "id": "z7kYUEJDxAtb"
      }
    },
    {
      "cell_type": "code",
      "source": [
        "def calculate_percentile(values, percentile):\n",
        "    sorted_values = sorted(values)\n",
        "    n = len(sorted_values)\n",
        "    index = int(n * (percentile / 100))\n",
        "    return sorted_values[index]\n",
        "\n",
        "# Example\n",
        "data = [1, 2, 3, 4, 5, 6, 7, 8, 9, 10]\n",
        "percentile_25 = calculate_percentile(data, 25)\n",
        "percentile_75 = calculate_percentile(data, 75)\n",
        "print(\"25th Percentile:\", percentile_25)\n",
        "print(\"75th Percentile:\", percentile_75)\n"
      ],
      "metadata": {
        "colab": {
          "base_uri": "https://localhost:8080/"
        },
        "id": "AgQfo4_jxKOZ",
        "outputId": "4af1a6fd-ac7e-4c53-aac3-e9aa8036d499"
      },
      "execution_count": 8,
      "outputs": [
        {
          "output_type": "stream",
          "name": "stdout",
          "text": [
            "25th Percentile: 3\n",
            "75th Percentile: 8\n"
          ]
        }
      ]
    },
    {
      "cell_type": "markdown",
      "source": [
        "#Probability\n",
        "Probability measures the likelihood of an event occurring. It is a number between 0 and 1, where 0 indicates impossibility, and 1 indicates certainty.\n",
        "Probability is often expressed as a decimal or a fraction. For example, the probability of rolling a 6 on a fair six-sided die is 1/6 or approximately 0.1667."
      ],
      "metadata": {
        "id": "3ngp5HfwyO2r"
      }
    },
    {
      "cell_type": "markdown",
      "source": [
        "# Probability of an Event A (P(A))\n",
        "The probability of a specific event A occurring"
      ],
      "metadata": {
        "id": "0jiQNx9kymxh"
      }
    },
    {
      "cell_type": "code",
      "source": [
        "def calculate_probability(event_occurrences, total_outcomes):\n",
        "    probability = event_occurrences / total_outcomes\n",
        "    return probability\n",
        "\n",
        "# Example: Probability of rolling a 6 on a fair six-sided die\n",
        "event_occurrences = 1  # There is 1 way to roll a 6\n",
        "total_outcomes = 6     # There are 6 possible outcomes (1 through 6)\n",
        "probability_result = calculate_probability(event_occurrences, total_outcomes)\n",
        "print(\"Probability:\", probability_result)\n"
      ],
      "metadata": {
        "colab": {
          "base_uri": "https://localhost:8080/"
        },
        "id": "EupPR1ZzyrrK",
        "outputId": "b6f0c08d-a9d8-4486-94d6-656d2fb1c210"
      },
      "execution_count": 9,
      "outputs": [
        {
          "output_type": "stream",
          "name": "stdout",
          "text": [
            "Probability: 0.16666666666666666\n"
          ]
        }
      ]
    },
    {
      "cell_type": "markdown",
      "source": [
        "#Complementary Probability (P(A') or P(not A))\n",
        "The probability of the complement of event A (the event not occurring)"
      ],
      "metadata": {
        "id": "vr-WDL7dytU3"
      }
    },
    {
      "cell_type": "code",
      "source": [
        "def calculate_complementary_probability(probability_A):\n",
        "    probability_not_A = 1 - probability_A\n",
        "    return probability_not_A\n",
        "\n",
        "# Example: Complementary probability of rolling a 6 on a fair six-sided die\n",
        "probability_A = 1/6  # Probability of rolling a 6\n",
        "complementary_probability_result = calculate_complementary_probability(probability_A)\n",
        "print(\"Complementary Probability:\", complementary_probability_result)\n"
      ],
      "metadata": {
        "colab": {
          "base_uri": "https://localhost:8080/"
        },
        "id": "Z7rd6JxTyxzp",
        "outputId": "f6e2e929-adf2-4371-fe47-d7cae1ff021a"
      },
      "execution_count": 10,
      "outputs": [
        {
          "output_type": "stream",
          "name": "stdout",
          "text": [
            "Complementary Probability: 0.8333333333333334\n"
          ]
        }
      ]
    },
    {
      "cell_type": "markdown",
      "source": [
        "# Normal distribution\n",
        "The normal distribution, also known as the Gaussian distribution or bell curve, is a continuous probability distribution characterized by a symmetric bell-shaped curve. In a normal distribution:\n",
        "\n",
        "The mean (μ) is the central value.\n",
        "The standard deviation (σ) determines the spread or width of the distribution.\n",
        "\n",
        "The probability density function (PDF) of a normal distribution is given by:\n",
        "\n",
        "$$ f(x|\\mu, \\sigma) = \\frac{1}{\\sigma \\sqrt{2\\pi}} e^{-\\frac{1}{2} \\left(\\frac{x-\\mu}{\\sigma}\\right)^2} $$\n",
        "\n",
        "\n",
        "\n",
        "The below code generates a standard normal distribution (mean = 0, standard deviation = 1) and plots its probability density function. You can adjust the mean and std_dev parameters to create normal distributions with different characteristics."
      ],
      "metadata": {
        "id": "ASQWpdW10J-2"
      }
    },
    {
      "cell_type": "code",
      "source": [
        "import numpy as np\n",
        "import matplotlib.pyplot as plt\n",
        "from scipy.stats import norm\n",
        "\n",
        "# Define mean and standard deviation\n",
        "mean = 0\n",
        "std_dev = 1\n",
        "\n",
        "# Generate a range of values\n",
        "x = np.linspace(mean - 3 * std_dev, mean + 3 * std_dev, 1000)\n",
        "\n",
        "# Calculate the probability density function (PDF) for each value\n",
        "pdf = norm.pdf(x, mean, std_dev)\n",
        "\n",
        "# Plot the normal distribution\n",
        "plt.plot(x, pdf, label='Normal Distribution')\n",
        "plt.title('Normal Distribution')\n",
        "plt.xlabel('X-axis')\n",
        "plt.ylabel('Probability Density')\n",
        "plt.legend()\n",
        "plt.show()\n"
      ],
      "metadata": {
        "colab": {
          "base_uri": "https://localhost:8080/",
          "height": 472
        },
        "id": "-F6nlgtd0wgF",
        "outputId": "dc490601-1195-48df-fbe1-31dadf94c19e"
      },
      "execution_count": 11,
      "outputs": [
        {
          "output_type": "display_data",
          "data": {
            "text/plain": [
              "<Figure size 640x480 with 1 Axes>"
            ],
            "image/png": "[encoded data removed]"
          },
          "metadata": {}
        }
      ]
    }
  ]
}